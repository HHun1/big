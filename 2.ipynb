{
  "nbformat": 4,
  "nbformat_minor": 0,
  "metadata": {
    "colab": {
      "name": "2.ipynb",
      "provenance": [],
      "authorship_tag": "ABX9TyNNZ6YreDZfYVikXFzAISRm",
      "include_colab_link": true
    },
    "kernelspec": {
      "name": "python3",
      "display_name": "Python 3"
    },
    "language_info": {
      "name": "python"
    }
  },
  "cells": [
    {
      "cell_type": "markdown",
      "metadata": {
        "id": "view-in-github",
        "colab_type": "text"
      },
      "source": [
        "<a href=\"https://colab.research.google.com/github/HHun1/big/blob/main_2/2.ipynb\" target=\"_parent\"><img src=\"https://colab.research.google.com/assets/colab-badge.svg\" alt=\"Open In Colab\"/></a>"
      ]
    },
    {
      "cell_type": "code",
      "metadata": {
        "colab": {
          "base_uri": "https://localhost:8080/"
        },
        "id": "NZlRdY0C1KCS",
        "outputId": "c31e040b-670e-4cf2-8907-eee9ed7ea9d2"
      },
      "source": [
        "!pip install speedtest-cli"
      ],
      "execution_count": 1,
      "outputs": [
        {
          "output_type": "stream",
          "text": [
            "Collecting speedtest-cli\n",
            "  Downloading https://files.pythonhosted.org/packages/9f/39/65259b7054368b370d3183762484fa2c779ddc41633894d895f9d1720f45/speedtest_cli-2.1.3-py2.py3-none-any.whl\n",
            "Installing collected packages: speedtest-cli\n",
            "Successfully installed speedtest-cli-2.1.3\n"
          ],
          "name": "stdout"
        }
      ]
    },
    {
      "cell_type": "code",
      "metadata": {
        "id": "TeGpq9zd1LOs"
      },
      "source": [
        "import datetime\n",
        "import csv\n",
        "import subprocess"
      ],
      "execution_count": 2,
      "outputs": []
    },
    {
      "cell_type": "code",
      "metadata": {
        "colab": {
          "base_uri": "https://localhost:8080/"
        },
        "id": "Wd_TWN521LSw",
        "outputId": "da616dec-cf45-4c5f-c37c-f8820c9c75be"
      },
      "source": [
        "date_time = datetime.datetime.now()\n",
        "print(date_time, type(date_time))"
      ],
      "execution_count": 3,
      "outputs": [
        {
          "output_type": "stream",
          "text": [
            "2021-04-10 17:50:46.406642 <class 'datetime.datetime'>\n"
          ],
          "name": "stdout"
        }
      ]
    },
    {
      "cell_type": "code",
      "metadata": {
        "colab": {
          "base_uri": "https://localhost:8080/",
          "height": 39
        },
        "id": "Dmb2WCNA1LVE",
        "outputId": "07ded13e-aa6d-4151-f533-92d236b83d0c"
      },
      "source": [
        "date_time.strftime('%a, %d %b %Y %H:%M:%S')"
      ],
      "execution_count": 4,
      "outputs": [
        {
          "output_type": "execute_result",
          "data": {
            "application/vnd.google.colaboratory.intrinsic+json": {
              "type": "string"
            },
            "text/plain": [
              "'Sat, 10 Apr 2021 17:50:46'"
            ]
          },
          "metadata": {
            "tags": []
          },
          "execution_count": 4
        }
      ]
    },
    {
      "cell_type": "code",
      "metadata": {
        "colab": {
          "base_uri": "https://localhost:8080/",
          "height": 39
        },
        "id": "PQZ2ljyu1LW6",
        "outputId": "c9fd2a3c-58c3-4bcf-abce-778ae8cd6d7a"
      },
      "source": [
        "date_time.strftime('%Y-%m-%d %H:%M:%S')"
      ],
      "execution_count": 5,
      "outputs": [
        {
          "output_type": "execute_result",
          "data": {
            "application/vnd.google.colaboratory.intrinsic+json": {
              "type": "string"
            },
            "text/plain": [
              "'2021-04-10 17:50:46'"
            ]
          },
          "metadata": {
            "tags": []
          },
          "execution_count": 5
        }
      ]
    },
    {
      "cell_type": "code",
      "metadata": {
        "id": "zx-OJfBU1LYx"
      },
      "source": [
        "speedtest_cmd = \"speedtest-cli --simple\"\n",
        "process = subprocess.Popen(speedtest_cmd.split(), stdout=subprocess.PIPE)\n",
        "process_output = process.communicate()[0]"
      ],
      "execution_count": 6,
      "outputs": []
    },
    {
      "cell_type": "code",
      "metadata": {
        "colab": {
          "base_uri": "https://localhost:8080/"
        },
        "id": "85l9YnzP1LcX",
        "outputId": "9159a54a-f1a0-4ff5-c629-90a21580fc44"
      },
      "source": [
        "print(process_output, type(process_output))"
      ],
      "execution_count": 7,
      "outputs": [
        {
          "output_type": "stream",
          "text": [
            "b'Ping: 28.959 ms\\nDownload: 576.71 Mbit/s\\nUpload: 465.30 Mbit/s\\n' <class 'bytes'>\n"
          ],
          "name": "stdout"
        }
      ]
    },
    {
      "cell_type": "code",
      "metadata": {
        "colab": {
          "base_uri": "https://localhost:8080/"
        },
        "id": "H9n3hmVs1Lek",
        "outputId": "30a6720f-46a1-4510-c527-228fe2863b38"
      },
      "source": [
        "date_time = datetime.datetime.now().strftime(\"%Y-%m-%d %H:%M:%S\")\n",
        "process_output = process_output.split()\n",
        "process_output.append(date_time)\n",
        "print(process_output, type(process_output))"
      ],
      "execution_count": 8,
      "outputs": [
        {
          "output_type": "stream",
          "text": [
            "[b'Ping:', b'28.959', b'ms', b'Download:', b'576.71', b'Mbit/s', b'Upload:', b'465.30', b'Mbit/s', '2021-04-10 17:50:56'] <class 'list'>\n"
          ],
          "name": "stdout"
        }
      ]
    },
    {
      "cell_type": "code",
      "metadata": {
        "id": "sRW7OFnL1b29"
      },
      "source": [
        "def speedtest():\n",
        "    date_time = datetime.datetime.now().strftime(\"%Y-%m-%d %H:%M:%S\")\n",
        "    speedtest_cmd = \"speedtest-cli --simple\"\n",
        "    process = subprocess.Popen(speedtest_cmd.split(), stdout=subprocess.PIPE)\n",
        "    process_output = process.communicate()[0]\n",
        "    process_output = process_output.split()\n",
        "    process_output.append(date_time)\n",
        "    return process_output"
      ],
      "execution_count": 9,
      "outputs": []
    },
    {
      "cell_type": "code",
      "metadata": {
        "colab": {
          "base_uri": "https://localhost:8080/"
        },
        "id": "473-_yDs1b7Q",
        "outputId": "d9ea3581-dca7-46f4-dc43-7df75b5b14bf"
      },
      "source": [
        "speedtest()"
      ],
      "execution_count": 10,
      "outputs": [
        {
          "output_type": "execute_result",
          "data": {
            "text/plain": [
              "[b'Ping:',\n",
              " b'20.315',\n",
              " b'ms',\n",
              " b'Download:',\n",
              " b'600.10',\n",
              " b'Mbit/s',\n",
              " b'Upload:',\n",
              " b'470.82',\n",
              " b'Mbit/s',\n",
              " '2021-04-10 17:50:56']"
            ]
          },
          "metadata": {
            "tags": []
          },
          "execution_count": 10
        }
      ]
    },
    {
      "cell_type": "code",
      "metadata": {
        "colab": {
          "base_uri": "https://localhost:8080/"
        },
        "id": "cE1FFSkc1b8u",
        "outputId": "a38fa2f9-d2ae-4a69-f4cf-a630506e2eb6"
      },
      "source": [
        "results = speedtest()\n",
        "print(results, type(results))"
      ],
      "execution_count": 11,
      "outputs": [
        {
          "output_type": "stream",
          "text": [
            "[b'Ping:', b'21.193', b'ms', b'Download:', b'616.94', b'Mbit/s', b'Upload:', b'484.82', b'Mbit/s', '2021-04-10 17:51:06'] <class 'list'>\n"
          ],
          "name": "stdout"
        }
      ]
    },
    {
      "cell_type": "code",
      "metadata": {
        "id": "LzQhMW1L1b-f"
      },
      "source": [
        "with open(\"/tmp/test.txt\", \"w\") as f:\n",
        "    f.write('test_msg')"
      ],
      "execution_count": 12,
      "outputs": []
    },
    {
      "cell_type": "code",
      "metadata": {
        "colab": {
          "base_uri": "https://localhost:8080/"
        },
        "id": "h37n5vD42lg8",
        "outputId": "d478ca78-138c-4c8f-f585-8cc0535c0985"
      },
      "source": [
        "!cat /tmp/test.txt"
      ],
      "execution_count": 13,
      "outputs": [
        {
          "output_type": "stream",
          "text": [
            "test_msg"
          ],
          "name": "stdout"
        }
      ]
    },
    {
      "cell_type": "code",
      "metadata": {
        "colab": {
          "base_uri": "https://localhost:8080/"
        },
        "id": "gqdJP_A-2ljG",
        "outputId": "f2e09c23-f04e-44a7-97ce-393007cd0272"
      },
      "source": [
        "with open(\"/tmp/test.txt\", \"r\") as f:\n",
        "    str = f.read()\n",
        "print(str)"
      ],
      "execution_count": 14,
      "outputs": [
        {
          "output_type": "stream",
          "text": [
            "test_msg\n"
          ],
          "name": "stdout"
        }
      ]
    },
    {
      "cell_type": "code",
      "metadata": {
        "id": "6PhH6gH32llI"
      },
      "source": [
        "def save_to_csv(data, filename):\n",
        "    try:\n",
        "        with open(filename + '.csv', 'a') as f:\n",
        "            wr = csv.writer(f)\n",
        "            wr.writerow(data)\n",
        "    except:\n",
        "        with open(filename + '.csv', 'w') as f:\n",
        "            wr = csv.writer(f)\n",
        "            wr.writerow(data)"
      ],
      "execution_count": 15,
      "outputs": []
    },
    {
      "cell_type": "code",
      "metadata": {
        "id": "_zV_Tux91cCE"
      },
      "source": [
        "def print_from_csv(filename):\n",
        "    with open(filename + '.csv', 'r') as f:\n",
        "        re = csv.reader(f)\n",
        "        for row in re:\n",
        "            print(row)"
      ],
      "execution_count": 16,
      "outputs": []
    },
    {
      "cell_type": "code",
      "metadata": {
        "id": "34QMsS3y1Lj7"
      },
      "source": [
        "import datetime\n",
        "import csv\n",
        "import pandas as pd"
      ],
      "execution_count": 17,
      "outputs": []
    },
    {
      "cell_type": "code",
      "metadata": {
        "colab": {
          "base_uri": "https://localhost:8080/"
        },
        "id": "A0v7Uyns3UY3",
        "outputId": "96b6535c-8f1b-4e8f-8599-57876f8ab31d"
      },
      "source": [
        "!head -n 5 rpi_data_long.csv"
      ],
      "execution_count": 18,
      "outputs": [
        {
          "output_type": "stream",
          "text": [
            "Ping:,26.992,ms,Download:,91.80,Mbit/s,Upload:,14.31,Mbit/s,2016-11-24 13:36:25\r\n",
            "Ping:,24.532,ms,Download:,88.19,Mbit/s,Upload:,14.12,Mbit/s,2016-11-24 13:36:55\r\n",
            "Ping:,20.225,ms,Download:,59.86,Mbit/s,Upload:,14.11,Mbit/s,2016-11-24 13:37:25\r\n",
            "Ping:,19.332,ms,Download:,91.81,Mbit/s,Upload:,14.22,Mbit/s,2016-11-24 13:37:57\r\n",
            "Ping:,22.494,ms,Download:,92.05,Mbit/s,Upload:,14.08,Mbit/s,2016-11-24 13:38:27\r\n"
          ],
          "name": "stdout"
        }
      ]
    },
    {
      "cell_type": "code",
      "metadata": {
        "id": "EZShEJrd3UbV"
      },
      "source": [
        "data_file = 'rpi_data_long.csv'"
      ],
      "execution_count": 19,
      "outputs": []
    },
    {
      "cell_type": "code",
      "metadata": {
        "id": "GbYoKKGX3Ud7"
      },
      "source": [
        "column_names = ['Type A', 'Measure A', 'Unit A',\n",
        "                'Type B', 'Measure B', 'Unit B',\n",
        "                'Type C', 'Measure C', 'Unit C',\n",
        "                'Datetime']"
      ],
      "execution_count": 20,
      "outputs": []
    },
    {
      "cell_type": "code",
      "metadata": {
        "id": "Aiiex-5w3UhD"
      },
      "source": [
        "with open(data_file, 'r') as f:\n",
        "    df_redundant = pd.read_csv(f, names = column_names)"
      ],
      "execution_count": 21,
      "outputs": []
    },
    {
      "cell_type": "code",
      "metadata": {
        "colab": {
          "base_uri": "https://localhost:8080/",
          "height": 206
        },
        "id": "a3b6XdJh3Ujb",
        "outputId": "467a5245-e0b0-4ed8-8f1c-26a81782ed85"
      },
      "source": [
        "df_redundant.head()"
      ],
      "execution_count": 22,
      "outputs": [
        {
          "output_type": "execute_result",
          "data": {
            "text/html": [
              "<div>\n",
              "<style scoped>\n",
              "    .dataframe tbody tr th:only-of-type {\n",
              "        vertical-align: middle;\n",
              "    }\n",
              "\n",
              "    .dataframe tbody tr th {\n",
              "        vertical-align: top;\n",
              "    }\n",
              "\n",
              "    .dataframe thead th {\n",
              "        text-align: right;\n",
              "    }\n",
              "</style>\n",
              "<table border=\"1\" class=\"dataframe\">\n",
              "  <thead>\n",
              "    <tr style=\"text-align: right;\">\n",
              "      <th></th>\n",
              "      <th>Type A</th>\n",
              "      <th>Measure A</th>\n",
              "      <th>Unit A</th>\n",
              "      <th>Type B</th>\n",
              "      <th>Measure B</th>\n",
              "      <th>Unit B</th>\n",
              "      <th>Type C</th>\n",
              "      <th>Measure C</th>\n",
              "      <th>Unit C</th>\n",
              "      <th>Datetime</th>\n",
              "    </tr>\n",
              "  </thead>\n",
              "  <tbody>\n",
              "    <tr>\n",
              "      <th>0</th>\n",
              "      <td>Ping:</td>\n",
              "      <td>26.992</td>\n",
              "      <td>ms</td>\n",
              "      <td>Download:</td>\n",
              "      <td>91.80</td>\n",
              "      <td>Mbit/s</td>\n",
              "      <td>Upload:</td>\n",
              "      <td>14.31</td>\n",
              "      <td>Mbit/s</td>\n",
              "      <td>2016-11-24 13:36:25</td>\n",
              "    </tr>\n",
              "    <tr>\n",
              "      <th>1</th>\n",
              "      <td>Ping:</td>\n",
              "      <td>24.532</td>\n",
              "      <td>ms</td>\n",
              "      <td>Download:</td>\n",
              "      <td>88.19</td>\n",
              "      <td>Mbit/s</td>\n",
              "      <td>Upload:</td>\n",
              "      <td>14.12</td>\n",
              "      <td>Mbit/s</td>\n",
              "      <td>2016-11-24 13:36:55</td>\n",
              "    </tr>\n",
              "    <tr>\n",
              "      <th>2</th>\n",
              "      <td>Ping:</td>\n",
              "      <td>20.225</td>\n",
              "      <td>ms</td>\n",
              "      <td>Download:</td>\n",
              "      <td>59.86</td>\n",
              "      <td>Mbit/s</td>\n",
              "      <td>Upload:</td>\n",
              "      <td>14.11</td>\n",
              "      <td>Mbit/s</td>\n",
              "      <td>2016-11-24 13:37:25</td>\n",
              "    </tr>\n",
              "    <tr>\n",
              "      <th>3</th>\n",
              "      <td>Ping:</td>\n",
              "      <td>19.332</td>\n",
              "      <td>ms</td>\n",
              "      <td>Download:</td>\n",
              "      <td>91.81</td>\n",
              "      <td>Mbit/s</td>\n",
              "      <td>Upload:</td>\n",
              "      <td>14.22</td>\n",
              "      <td>Mbit/s</td>\n",
              "      <td>2016-11-24 13:37:57</td>\n",
              "    </tr>\n",
              "    <tr>\n",
              "      <th>4</th>\n",
              "      <td>Ping:</td>\n",
              "      <td>22.494</td>\n",
              "      <td>ms</td>\n",
              "      <td>Download:</td>\n",
              "      <td>92.05</td>\n",
              "      <td>Mbit/s</td>\n",
              "      <td>Upload:</td>\n",
              "      <td>14.08</td>\n",
              "      <td>Mbit/s</td>\n",
              "      <td>2016-11-24 13:38:27</td>\n",
              "    </tr>\n",
              "  </tbody>\n",
              "</table>\n",
              "</div>"
            ],
            "text/plain": [
              "  Type A Measure A Unit A  ... Measure C  Unit C             Datetime\n",
              "0  Ping:    26.992     ms  ...     14.31  Mbit/s  2016-11-24 13:36:25\n",
              "1  Ping:    24.532     ms  ...     14.12  Mbit/s  2016-11-24 13:36:55\n",
              "2  Ping:    20.225     ms  ...     14.11  Mbit/s  2016-11-24 13:37:25\n",
              "3  Ping:    19.332     ms  ...     14.22  Mbit/s  2016-11-24 13:37:57\n",
              "4  Ping:    22.494     ms  ...     14.08  Mbit/s  2016-11-24 13:38:27\n",
              "\n",
              "[5 rows x 10 columns]"
            ]
          },
          "metadata": {
            "tags": []
          },
          "execution_count": 22
        }
      ]
    },
    {
      "cell_type": "code",
      "metadata": {
        "id": "yKZ9M9et3Ulh"
      },
      "source": [
        "df_compact = df_redundant.copy()"
      ],
      "execution_count": 23,
      "outputs": []
    },
    {
      "cell_type": "code",
      "metadata": {
        "colab": {
          "base_uri": "https://localhost:8080/",
          "height": 143
        },
        "id": "cpo0ADrg3iHF",
        "outputId": "da9c24ec-5dd0-40f6-d5bf-01edaf9f34b0"
      },
      "source": [
        "df_compact.rename(columns={'Measure A': 'Ping (ms)',\n",
        "                           'Measure B': 'Download (Mbit/s)',\n",
        "                           'Measure C': 'Upload (Mbit/s)'}, inplace=True)\n",
        "df_compact.head(3)"
      ],
      "execution_count": 24,
      "outputs": [
        {
          "output_type": "execute_result",
          "data": {
            "text/html": [
              "<div>\n",
              "<style scoped>\n",
              "    .dataframe tbody tr th:only-of-type {\n",
              "        vertical-align: middle;\n",
              "    }\n",
              "\n",
              "    .dataframe tbody tr th {\n",
              "        vertical-align: top;\n",
              "    }\n",
              "\n",
              "    .dataframe thead th {\n",
              "        text-align: right;\n",
              "    }\n",
              "</style>\n",
              "<table border=\"1\" class=\"dataframe\">\n",
              "  <thead>\n",
              "    <tr style=\"text-align: right;\">\n",
              "      <th></th>\n",
              "      <th>Type A</th>\n",
              "      <th>Ping (ms)</th>\n",
              "      <th>Unit A</th>\n",
              "      <th>Type B</th>\n",
              "      <th>Download (Mbit/s)</th>\n",
              "      <th>Unit B</th>\n",
              "      <th>Type C</th>\n",
              "      <th>Upload (Mbit/s)</th>\n",
              "      <th>Unit C</th>\n",
              "      <th>Datetime</th>\n",
              "    </tr>\n",
              "  </thead>\n",
              "  <tbody>\n",
              "    <tr>\n",
              "      <th>0</th>\n",
              "      <td>Ping:</td>\n",
              "      <td>26.992</td>\n",
              "      <td>ms</td>\n",
              "      <td>Download:</td>\n",
              "      <td>91.80</td>\n",
              "      <td>Mbit/s</td>\n",
              "      <td>Upload:</td>\n",
              "      <td>14.31</td>\n",
              "      <td>Mbit/s</td>\n",
              "      <td>2016-11-24 13:36:25</td>\n",
              "    </tr>\n",
              "    <tr>\n",
              "      <th>1</th>\n",
              "      <td>Ping:</td>\n",
              "      <td>24.532</td>\n",
              "      <td>ms</td>\n",
              "      <td>Download:</td>\n",
              "      <td>88.19</td>\n",
              "      <td>Mbit/s</td>\n",
              "      <td>Upload:</td>\n",
              "      <td>14.12</td>\n",
              "      <td>Mbit/s</td>\n",
              "      <td>2016-11-24 13:36:55</td>\n",
              "    </tr>\n",
              "    <tr>\n",
              "      <th>2</th>\n",
              "      <td>Ping:</td>\n",
              "      <td>20.225</td>\n",
              "      <td>ms</td>\n",
              "      <td>Download:</td>\n",
              "      <td>59.86</td>\n",
              "      <td>Mbit/s</td>\n",
              "      <td>Upload:</td>\n",
              "      <td>14.11</td>\n",
              "      <td>Mbit/s</td>\n",
              "      <td>2016-11-24 13:37:25</td>\n",
              "    </tr>\n",
              "  </tbody>\n",
              "</table>\n",
              "</div>"
            ],
            "text/plain": [
              "  Type A Ping (ms) Unit A  ... Upload (Mbit/s)  Unit C             Datetime\n",
              "0  Ping:    26.992     ms  ...           14.31  Mbit/s  2016-11-24 13:36:25\n",
              "1  Ping:    24.532     ms  ...           14.12  Mbit/s  2016-11-24 13:36:55\n",
              "2  Ping:    20.225     ms  ...           14.11  Mbit/s  2016-11-24 13:37:25\n",
              "\n",
              "[3 rows x 10 columns]"
            ]
          },
          "metadata": {
            "tags": []
          },
          "execution_count": 24
        }
      ]
    },
    {
      "cell_type": "code",
      "metadata": {
        "colab": {
          "base_uri": "https://localhost:8080/",
          "height": 206
        },
        "id": "2PRBmxhV3iI5",
        "outputId": "791cdc0d-c91f-4c61-d223-d2e211e35df8"
      },
      "source": [
        "df_compact.drop(['Type A', 'Type B', 'Type C',\n",
        "                 'Unit A', 'Unit B', 'Unit C'], axis=1, inplace=True)\n",
        "df_compact.head()"
      ],
      "execution_count": 25,
      "outputs": [
        {
          "output_type": "execute_result",
          "data": {
            "text/html": [
              "<div>\n",
              "<style scoped>\n",
              "    .dataframe tbody tr th:only-of-type {\n",
              "        vertical-align: middle;\n",
              "    }\n",
              "\n",
              "    .dataframe tbody tr th {\n",
              "        vertical-align: top;\n",
              "    }\n",
              "\n",
              "    .dataframe thead th {\n",
              "        text-align: right;\n",
              "    }\n",
              "</style>\n",
              "<table border=\"1\" class=\"dataframe\">\n",
              "  <thead>\n",
              "    <tr style=\"text-align: right;\">\n",
              "      <th></th>\n",
              "      <th>Ping (ms)</th>\n",
              "      <th>Download (Mbit/s)</th>\n",
              "      <th>Upload (Mbit/s)</th>\n",
              "      <th>Datetime</th>\n",
              "    </tr>\n",
              "  </thead>\n",
              "  <tbody>\n",
              "    <tr>\n",
              "      <th>0</th>\n",
              "      <td>26.992</td>\n",
              "      <td>91.80</td>\n",
              "      <td>14.31</td>\n",
              "      <td>2016-11-24 13:36:25</td>\n",
              "    </tr>\n",
              "    <tr>\n",
              "      <th>1</th>\n",
              "      <td>24.532</td>\n",
              "      <td>88.19</td>\n",
              "      <td>14.12</td>\n",
              "      <td>2016-11-24 13:36:55</td>\n",
              "    </tr>\n",
              "    <tr>\n",
              "      <th>2</th>\n",
              "      <td>20.225</td>\n",
              "      <td>59.86</td>\n",
              "      <td>14.11</td>\n",
              "      <td>2016-11-24 13:37:25</td>\n",
              "    </tr>\n",
              "    <tr>\n",
              "      <th>3</th>\n",
              "      <td>19.332</td>\n",
              "      <td>91.81</td>\n",
              "      <td>14.22</td>\n",
              "      <td>2016-11-24 13:37:57</td>\n",
              "    </tr>\n",
              "    <tr>\n",
              "      <th>4</th>\n",
              "      <td>22.494</td>\n",
              "      <td>92.05</td>\n",
              "      <td>14.08</td>\n",
              "      <td>2016-11-24 13:38:27</td>\n",
              "    </tr>\n",
              "  </tbody>\n",
              "</table>\n",
              "</div>"
            ],
            "text/plain": [
              "  Ping (ms) Download (Mbit/s)  Upload (Mbit/s)             Datetime\n",
              "0    26.992             91.80            14.31  2016-11-24 13:36:25\n",
              "1    24.532             88.19            14.12  2016-11-24 13:36:55\n",
              "2    20.225             59.86            14.11  2016-11-24 13:37:25\n",
              "3    19.332             91.81            14.22  2016-11-24 13:37:57\n",
              "4    22.494             92.05            14.08  2016-11-24 13:38:27"
            ]
          },
          "metadata": {
            "tags": []
          },
          "execution_count": 25
        }
      ]
    },
    {
      "cell_type": "code",
      "metadata": {
        "id": "xBjNCgBk3iNB"
      },
      "source": [
        "df_compact['Date'] = df_compact['Datetime'].apply(lambda dt_str: pd.to_datetime(dt_str).date())"
      ],
      "execution_count": 26,
      "outputs": []
    },
    {
      "cell_type": "code",
      "metadata": {
        "id": "yNBoleBg3UnI"
      },
      "source": [
        "temp = df_compact['Datetime'].apply(lambda dt_str: pd.to_datetime(dt_str))\n",
        "df_compact['Time'] = temp.dt.time"
      ],
      "execution_count": 27,
      "outputs": []
    },
    {
      "cell_type": "code",
      "metadata": {
        "colab": {
          "base_uri": "https://localhost:8080/",
          "height": 206
        },
        "id": "-2uCXeqb1Lme",
        "outputId": "a0e1baa4-5bc9-43ff-f3f7-854b7b65faa7"
      },
      "source": [
        "df_compact.drop('Datetime', axis=1, inplace=True)\n",
        "df_compact.head()"
      ],
      "execution_count": 28,
      "outputs": [
        {
          "output_type": "execute_result",
          "data": {
            "text/html": [
              "<div>\n",
              "<style scoped>\n",
              "    .dataframe tbody tr th:only-of-type {\n",
              "        vertical-align: middle;\n",
              "    }\n",
              "\n",
              "    .dataframe tbody tr th {\n",
              "        vertical-align: top;\n",
              "    }\n",
              "\n",
              "    .dataframe thead th {\n",
              "        text-align: right;\n",
              "    }\n",
              "</style>\n",
              "<table border=\"1\" class=\"dataframe\">\n",
              "  <thead>\n",
              "    <tr style=\"text-align: right;\">\n",
              "      <th></th>\n",
              "      <th>Ping (ms)</th>\n",
              "      <th>Download (Mbit/s)</th>\n",
              "      <th>Upload (Mbit/s)</th>\n",
              "      <th>Date</th>\n",
              "      <th>Time</th>\n",
              "    </tr>\n",
              "  </thead>\n",
              "  <tbody>\n",
              "    <tr>\n",
              "      <th>0</th>\n",
              "      <td>26.992</td>\n",
              "      <td>91.80</td>\n",
              "      <td>14.31</td>\n",
              "      <td>2016-11-24</td>\n",
              "      <td>13:36:25</td>\n",
              "    </tr>\n",
              "    <tr>\n",
              "      <th>1</th>\n",
              "      <td>24.532</td>\n",
              "      <td>88.19</td>\n",
              "      <td>14.12</td>\n",
              "      <td>2016-11-24</td>\n",
              "      <td>13:36:55</td>\n",
              "    </tr>\n",
              "    <tr>\n",
              "      <th>2</th>\n",
              "      <td>20.225</td>\n",
              "      <td>59.86</td>\n",
              "      <td>14.11</td>\n",
              "      <td>2016-11-24</td>\n",
              "      <td>13:37:25</td>\n",
              "    </tr>\n",
              "    <tr>\n",
              "      <th>3</th>\n",
              "      <td>19.332</td>\n",
              "      <td>91.81</td>\n",
              "      <td>14.22</td>\n",
              "      <td>2016-11-24</td>\n",
              "      <td>13:37:57</td>\n",
              "    </tr>\n",
              "    <tr>\n",
              "      <th>4</th>\n",
              "      <td>22.494</td>\n",
              "      <td>92.05</td>\n",
              "      <td>14.08</td>\n",
              "      <td>2016-11-24</td>\n",
              "      <td>13:38:27</td>\n",
              "    </tr>\n",
              "  </tbody>\n",
              "</table>\n",
              "</div>"
            ],
            "text/plain": [
              "  Ping (ms) Download (Mbit/s)  Upload (Mbit/s)        Date      Time\n",
              "0    26.992             91.80            14.31  2016-11-24  13:36:25\n",
              "1    24.532             88.19            14.12  2016-11-24  13:36:55\n",
              "2    20.225             59.86            14.11  2016-11-24  13:37:25\n",
              "3    19.332             91.81            14.22  2016-11-24  13:37:57\n",
              "4    22.494             92.05            14.08  2016-11-24  13:38:27"
            ]
          },
          "metadata": {
            "tags": []
          },
          "execution_count": 28
        }
      ]
    },
    {
      "cell_type": "code",
      "metadata": {
        "colab": {
          "base_uri": "https://localhost:8080/"
        },
        "id": "LYHS7IiS3zw2",
        "outputId": "7da2e3bf-1054-4f41-9f40-aacab97709b4"
      },
      "source": [
        "print(df_compact['Date'][0], type(df_compact['Date'][0]))\n",
        "print(df_compact['Time'][0], type(df_compact['Time'][0]))"
      ],
      "execution_count": 29,
      "outputs": [
        {
          "output_type": "stream",
          "text": [
            "2016-11-24 <class 'datetime.date'>\n",
            "13:36:25 <class 'datetime.time'>\n"
          ],
          "name": "stdout"
        }
      ]
    },
    {
      "cell_type": "code",
      "metadata": {
        "id": "y7cOB6vS3zzU"
      },
      "source": [
        "df_compact.to_csv('rpi_data_compact.csv')"
      ],
      "execution_count": 30,
      "outputs": []
    },
    {
      "cell_type": "code",
      "metadata": {
        "id": "w_iSEPZE3z40"
      },
      "source": [
        ""
      ],
      "execution_count": 30,
      "outputs": []
    }
  ]
}